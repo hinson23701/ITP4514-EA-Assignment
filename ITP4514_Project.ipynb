{
  "nbformat": 4,
  "nbformat_minor": 0,
  "metadata": {
    "colab": {
      "provenance": [],
      "collapsed_sections": []
    },
    "kernelspec": {
      "name": "python3",
      "display_name": "Python 3"
    },
    "language_info": {
      "name": "python"
    }
  },
  "cells": [
    {
      "cell_type": "code",
      "execution_count": 61,
      "metadata": {
        "colab": {
          "base_uri": "https://localhost:8080/",
          "height": 196
        },
        "id": "uVsOVYw0TA4b",
        "outputId": "6395916f-93f6-494a-a212-cf102dfc281e"
      },
      "outputs": [
        {
          "output_type": "display_data",
          "data": {
            "text/plain": [
              "<IPython.core.display.HTML object>"
            ],
            "text/html": [
              "\n",
              "     <input type=\"file\" id=\"files-e47ca2ed-079c-4a84-88b6-76989724f654\" name=\"files[]\" multiple disabled\n",
              "        style=\"border:none\" />\n",
              "     <output id=\"result-e47ca2ed-079c-4a84-88b6-76989724f654\">\n",
              "      Upload widget is only available when the cell has been executed in the\n",
              "      current browser session. Please rerun this cell to enable.\n",
              "      </output>\n",
              "      <script>// Copyright 2017 Google LLC\n",
              "//\n",
              "// Licensed under the Apache License, Version 2.0 (the \"License\");\n",
              "// you may not use this file except in compliance with the License.\n",
              "// You may obtain a copy of the License at\n",
              "//\n",
              "//      http://www.apache.org/licenses/LICENSE-2.0\n",
              "//\n",
              "// Unless required by applicable law or agreed to in writing, software\n",
              "// distributed under the License is distributed on an \"AS IS\" BASIS,\n",
              "// WITHOUT WARRANTIES OR CONDITIONS OF ANY KIND, either express or implied.\n",
              "// See the License for the specific language governing permissions and\n",
              "// limitations under the License.\n",
              "\n",
              "/**\n",
              " * @fileoverview Helpers for google.colab Python module.\n",
              " */\n",
              "(function(scope) {\n",
              "function span(text, styleAttributes = {}) {\n",
              "  const element = document.createElement('span');\n",
              "  element.textContent = text;\n",
              "  for (const key of Object.keys(styleAttributes)) {\n",
              "    element.style[key] = styleAttributes[key];\n",
              "  }\n",
              "  return element;\n",
              "}\n",
              "\n",
              "// Max number of bytes which will be uploaded at a time.\n",
              "const MAX_PAYLOAD_SIZE = 100 * 1024;\n",
              "\n",
              "function _uploadFiles(inputId, outputId) {\n",
              "  const steps = uploadFilesStep(inputId, outputId);\n",
              "  const outputElement = document.getElementById(outputId);\n",
              "  // Cache steps on the outputElement to make it available for the next call\n",
              "  // to uploadFilesContinue from Python.\n",
              "  outputElement.steps = steps;\n",
              "\n",
              "  return _uploadFilesContinue(outputId);\n",
              "}\n",
              "\n",
              "// This is roughly an async generator (not supported in the browser yet),\n",
              "// where there are multiple asynchronous steps and the Python side is going\n",
              "// to poll for completion of each step.\n",
              "// This uses a Promise to block the python side on completion of each step,\n",
              "// then passes the result of the previous step as the input to the next step.\n",
              "function _uploadFilesContinue(outputId) {\n",
              "  const outputElement = document.getElementById(outputId);\n",
              "  const steps = outputElement.steps;\n",
              "\n",
              "  const next = steps.next(outputElement.lastPromiseValue);\n",
              "  return Promise.resolve(next.value.promise).then((value) => {\n",
              "    // Cache the last promise value to make it available to the next\n",
              "    // step of the generator.\n",
              "    outputElement.lastPromiseValue = value;\n",
              "    return next.value.response;\n",
              "  });\n",
              "}\n",
              "\n",
              "/**\n",
              " * Generator function which is called between each async step of the upload\n",
              " * process.\n",
              " * @param {string} inputId Element ID of the input file picker element.\n",
              " * @param {string} outputId Element ID of the output display.\n",
              " * @return {!Iterable<!Object>} Iterable of next steps.\n",
              " */\n",
              "function* uploadFilesStep(inputId, outputId) {\n",
              "  const inputElement = document.getElementById(inputId);\n",
              "  inputElement.disabled = false;\n",
              "\n",
              "  const outputElement = document.getElementById(outputId);\n",
              "  outputElement.innerHTML = '';\n",
              "\n",
              "  const pickedPromise = new Promise((resolve) => {\n",
              "    inputElement.addEventListener('change', (e) => {\n",
              "      resolve(e.target.files);\n",
              "    });\n",
              "  });\n",
              "\n",
              "  const cancel = document.createElement('button');\n",
              "  inputElement.parentElement.appendChild(cancel);\n",
              "  cancel.textContent = 'Cancel upload';\n",
              "  const cancelPromise = new Promise((resolve) => {\n",
              "    cancel.onclick = () => {\n",
              "      resolve(null);\n",
              "    };\n",
              "  });\n",
              "\n",
              "  // Wait for the user to pick the files.\n",
              "  const files = yield {\n",
              "    promise: Promise.race([pickedPromise, cancelPromise]),\n",
              "    response: {\n",
              "      action: 'starting',\n",
              "    }\n",
              "  };\n",
              "\n",
              "  cancel.remove();\n",
              "\n",
              "  // Disable the input element since further picks are not allowed.\n",
              "  inputElement.disabled = true;\n",
              "\n",
              "  if (!files) {\n",
              "    return {\n",
              "      response: {\n",
              "        action: 'complete',\n",
              "      }\n",
              "    };\n",
              "  }\n",
              "\n",
              "  for (const file of files) {\n",
              "    const li = document.createElement('li');\n",
              "    li.append(span(file.name, {fontWeight: 'bold'}));\n",
              "    li.append(span(\n",
              "        `(${file.type || 'n/a'}) - ${file.size} bytes, ` +\n",
              "        `last modified: ${\n",
              "            file.lastModifiedDate ? file.lastModifiedDate.toLocaleDateString() :\n",
              "                                    'n/a'} - `));\n",
              "    const percent = span('0% done');\n",
              "    li.appendChild(percent);\n",
              "\n",
              "    outputElement.appendChild(li);\n",
              "\n",
              "    const fileDataPromise = new Promise((resolve) => {\n",
              "      const reader = new FileReader();\n",
              "      reader.onload = (e) => {\n",
              "        resolve(e.target.result);\n",
              "      };\n",
              "      reader.readAsArrayBuffer(file);\n",
              "    });\n",
              "    // Wait for the data to be ready.\n",
              "    let fileData = yield {\n",
              "      promise: fileDataPromise,\n",
              "      response: {\n",
              "        action: 'continue',\n",
              "      }\n",
              "    };\n",
              "\n",
              "    // Use a chunked sending to avoid message size limits. See b/62115660.\n",
              "    let position = 0;\n",
              "    do {\n",
              "      const length = Math.min(fileData.byteLength - position, MAX_PAYLOAD_SIZE);\n",
              "      const chunk = new Uint8Array(fileData, position, length);\n",
              "      position += length;\n",
              "\n",
              "      const base64 = btoa(String.fromCharCode.apply(null, chunk));\n",
              "      yield {\n",
              "        response: {\n",
              "          action: 'append',\n",
              "          file: file.name,\n",
              "          data: base64,\n",
              "        },\n",
              "      };\n",
              "\n",
              "      let percentDone = fileData.byteLength === 0 ?\n",
              "          100 :\n",
              "          Math.round((position / fileData.byteLength) * 100);\n",
              "      percent.textContent = `${percentDone}% done`;\n",
              "\n",
              "    } while (position < fileData.byteLength);\n",
              "  }\n",
              "\n",
              "  // All done.\n",
              "  yield {\n",
              "    response: {\n",
              "      action: 'complete',\n",
              "    }\n",
              "  };\n",
              "}\n",
              "\n",
              "scope.google = scope.google || {};\n",
              "scope.google.colab = scope.google.colab || {};\n",
              "scope.google.colab._files = {\n",
              "  _uploadFiles,\n",
              "  _uploadFilesContinue,\n",
              "};\n",
              "})(self);\n",
              "</script> "
            ]
          },
          "metadata": {}
        },
        {
          "output_type": "stream",
          "name": "stdout",
          "text": [
            "Saving Temperature__TuenMun.csv to Temperature__TuenMun (24).csv\n",
            "   year  month  day  max_temp  min_temp  mean_temp\n",
            "0  2007      1    1      24.4      15.0       18.9\n",
            "1  2007      1    2      21.3      17.1       19.0\n",
            "2  2007      1    3      22.1      17.9       19.4\n",
            "3  2007      1    4      20.8      14.8       16.8\n",
            "4  2007      1    5      19.8      11.8       15.5\n",
            "Data Shape:  (5736, 6)\n"
          ]
        }
      ],
      "source": [
        "# importing modules \n",
        "import numpy as np \n",
        "import pandas as pd \n",
        "import matplotlib.pyplot as plt\n",
        "import sklearn   # This imports the scikit-learn library\n",
        "from sklearn.linear_model import LinearRegression\n",
        "from sklearn.metrics import mean_squared_error\n",
        "from google.colab import files\n",
        "from datetime import datetime, timedelta\n",
        "from sklearn.preprocessing import PolynomialFeatures\n",
        "from sklearn.tree import DecisionTreeRegressor\n",
        "import tensorflow as tf \n",
        "from sklearn.preprocessing import OneHotEncoder\n",
        "from sklearn.model_selection import train_test_split\n",
        "from sklearn.preprocessing import StandardScaler    \n",
        "from sklearn.tree import DecisionTreeClassifier \n",
        "from matplotlib.colors import ListedColormap  \n",
        "\n",
        "uploaded=files.upload()   # browse and upload dataset.csv\n",
        "temp = pd.read_csv(\"Temperature__TuenMun.csv\")\n",
        "temp.max_temp = pd.to_numeric(temp.max_temp, errors='coerce')\n",
        "temp.min_temp = pd.to_numeric(temp.min_temp, errors='coerce')\n",
        "temp.mean_temp = pd.to_numeric(temp.mean_temp, errors='coerce')\n",
        "temp=temp.dropna()\n",
        "print(temp.head())\n",
        "print(\"Data Shape: \",temp.shape)"
      ]
    },
    {
      "cell_type": "code",
      "source": [
        "def KNN(day,month,year):\n",
        "  filter1 = temp[temp['day']==day]\n",
        "  filter2 = filter1[filter1['month']==month]\n",
        "  y = filter2.iloc[:,[3,4,5]].values\n",
        "  x = filter2.iloc[:,[0]].values\n",
        "\n",
        "  x_train, x_test, y_train, y_test= train_test_split(x, y, test_size= 0.25, random_state=0)  \n",
        "  st_x= StandardScaler()  \n",
        "  x_train= st_x.fit_transform(x_train)    \n",
        "  x_test= st_x.transform(x_test)   \n",
        "  classifier= DecisionTreeClassifier(criterion='entropy', random_state=0)\n",
        "  classifier.fit(x_train, y_train)\n",
        "  y_pred= classifier.predict(x_test)\n",
        "\n",
        "  x_set, y_set = x_train, y_train  \n",
        "  x1, x2 = np.meshgrid(np.arange(start = x_set[:, 0].min() - 1, stop = x_set[:, 0].max() + 1, step  =0.01),  \n",
        "  np.arange(start = x_set[:, 1].min() - 1, stop = x_set[:, 1].max() + 1, step = 0.01))\n",
        "\n",
        "  plt.contourf(x1, x2, classifier.predict(np.array([x1.ravel(), x2.ravel()]).T).reshape(x1.shape),  \n",
        "  alpha = 0.75, cmap = ListedColormap(('purple','green' )))\n",
        "\n",
        "  plt.xlim(x1.min(), x1.max())  \n",
        "  plt.ylim(x2.min(), x2.max())  \n",
        "  for i, j in enumerate(np.unique(y_set)):  \n",
        "    plt.scatter(x_set[y_set == j, 0], x_set[y_set == j, 1], c = ListedColormap(('purple', 'green'))(i), label = j)  \n",
        "    plt.title('Decision Tree Algorithm (Training set)')  \n",
        "    plt.xlabel('Age')  \n",
        "    plt.ylabel('Estimated Salary')  \n",
        "    plt.legend()  \n",
        "    plt.show()"
      ],
      "metadata": {
        "id": "q5W2Nb--vt0P"
      },
      "execution_count": 70,
      "outputs": []
    },
    {
      "cell_type": "code",
      "source": [
        "def LR(day,month,year):\n",
        "  filter1 = temp[temp['day']==day]\n",
        "  filter2 = filter1[filter1['month']==month]\n",
        "  y_max = filter2.iloc[:,[3]].values\n",
        "  y_min = filter2.iloc[:,[4]].values\n",
        "  y_mean = filter2.iloc[:,[5]].values\n",
        "  X = filter2.iloc[:,[0]].values\n",
        "\n",
        "  model = LinearRegression(fit_intercept=True)\n",
        "  X_fit = np.arange(X.min(), X.max(), 1)[:, np.newaxis]\n",
        "  lr_max = LinearRegression().fit(X, y_max)\n",
        "  lr_min = LinearRegression().fit(X, y_min)\n",
        "  lr_mean = LinearRegression().fit(X, y_mean)\n",
        "  y_fit_max = lr_max.predict(X_fit)\n",
        "  y_fit_min = lr_min.predict(X_fit)\n",
        "  y_fit_mean = lr_mean.predict(X_fit)\n",
        "\n",
        "  model.fit(X_fit, y_fit_max)\n",
        "  y_pred_max = model.predict([[year]])\n",
        "  model.fit(X_fit, y_fit_min)\n",
        "  y_pred_min = model.predict([[year]])\n",
        "  model.fit(X_fit, y_fit_mean)\n",
        "  y_pred_mean = model.predict([[year]])\n",
        "  return([str(year)+'-'+str(month)+'-'+f\"{day:02d}\",y_pred_max.item(0),y_pred_min.item(0),y_pred_mean.item(0)])"
      ],
      "metadata": {
        "id": "kRXAhApKDeRJ"
      },
      "execution_count": 42,
      "outputs": []
    },
    {
      "cell_type": "code",
      "source": [
        "def NLR(day,month,year,degree):\n",
        "  filter1 = temp[temp['day']==day]\n",
        "  filter2 = filter1[filter1['month']==month]\n",
        "  y_max = filter2.iloc[:,[3]].values\n",
        "  y_min = filter2.iloc[:,[4]].values\n",
        "  y_mean = filter2.iloc[:,[5]].values\n",
        "  X = filter2.iloc[:,[0]].values\n",
        "\n",
        "  model = LinearRegression(fit_intercept=True)\n",
        "  X_fit = np.arange(X.min(), X.max(), 1)[:, np.newaxis]\n",
        "  logistic = PolynomialFeatures(degree=degree)\n",
        "  X_logistic = logistic.fit_transform(X)\n",
        "  regr_max = LinearRegression().fit(X_logistic, y_max)\n",
        "  y_fit_max = regr_max.predict(logistic.fit_transform(X_fit))\n",
        "  regr_min = LinearRegression().fit(X_logistic, y_min)\n",
        "  y_fit_min = regr_min.predict(logistic.fit_transform(X_fit))\n",
        "  regr_mean = LinearRegression().fit(X_logistic, y_mean)\n",
        "  y_fit_mean = regr_mean.predict(logistic.fit_transform(X_fit))\n",
        "\n",
        "  model.fit(X_fit, y_fit_max)\n",
        "  y_pred_max = model.predict([[year]])\n",
        "  model.fit(X_fit, y_fit_min)\n",
        "  y_pred_min = model.predict([[year]])\n",
        "  model.fit(X_fit, y_fit_mean)\n",
        "  y_pred_mean = model.predict([[year]])\n",
        "  return([str(year)+'-'+str(month)+'-'+f\"{day:02d}\",y_pred_max.item(0),y_pred_min.item(0),y_pred_mean.item(0)])"
      ],
      "metadata": {
        "id": "N0dQBzs1-u-y"
      },
      "execution_count": 43,
      "outputs": []
    },
    {
      "cell_type": "code",
      "source": [
        "def DTR(day,month,year,depth):\n",
        "  filter1 = temp[temp['day']==day]\n",
        "  filter2 = filter1[filter1['month']==month]\n",
        "  y_max = filter2.iloc[:,[3]].values\n",
        "  y_min = filter2.iloc[:,[4]].values\n",
        "  y_mean = filter2.iloc[:,[5]].values\n",
        "  X = filter2.iloc[:,[0]].values\n",
        "\n",
        "  tree_max = DecisionTreeRegressor(max_depth=depth)\n",
        "  tree_max.fit(X, y_max)\n",
        "  tree_min = DecisionTreeRegressor(max_depth=depth)\n",
        "  tree_min.fit(X, y_min)\n",
        "  tree_mean = DecisionTreeRegressor(max_depth=depth)\n",
        "  tree_mean.fit(X, y_mean)\n",
        "  sort_index = X.flatten().argsort()\n",
        "\n",
        "  y_pred_max = tree_max.predict([[year]])\n",
        "  y_pred_min = tree_min.predict([[year]])\n",
        "  y_pred_mean = tree_mean.predict([[year]])\n",
        "  return([str(year)+'-'+str(month)+'-'+f\"{day:02d}\",y_pred_max.item(0),y_pred_min.item(0),y_pred_mean.item(0)])"
      ],
      "metadata": {
        "id": "UDkUD0alBugu"
      },
      "execution_count": 44,
      "outputs": []
    },
    {
      "cell_type": "code",
      "source": [
        "import requests\n",
        "import json\n",
        "response_API = requests.get('https://data.weather.gov.hk/weatherAPI/opendata/weather.php?dataType=fnd')\n",
        "data = response_API.text\n",
        "parse_json = json.loads(data)\n",
        "HKO_weather_forecast = pd.DataFrame(columns=['Date','Max Temp','Min Temp'],index=[i for i in range(1,10)])\n",
        "for i in range(9): \n",
        "  HKO_weather_forecast.loc[i+1] = [parse_json['weatherForecast'][i]['forecastDate'],\n",
        "                    parse_json['weatherForecast'][i]['forecastMaxtemp']['value'],parse_json['weatherForecast'][i]['forecastMintemp']['value']]\n",
        "print(HKO_weather_forecast)"
      ],
      "metadata": {
        "colab": {
          "base_uri": "https://localhost:8080/"
        },
        "id": "tYxvuJLdHiys",
        "outputId": "45e2c659-6c21-48ff-9709-bb12f9a351ff"
      },
      "execution_count": 45,
      "outputs": [
        {
          "output_type": "stream",
          "name": "stdout",
          "text": [
            "       Date Max Temp Min Temp\n",
            "1  20221106       21       19\n",
            "2  20221107       23       20\n",
            "3  20221108       25       21\n",
            "4  20221109       26       22\n",
            "5  20221110       26       22\n",
            "6  20221111       26       22\n",
            "7  20221112       27       22\n",
            "8  20221113       26       21\n",
            "9  20221114       25       21\n"
          ]
        }
      ]
    },
    {
      "cell_type": "code",
      "source": [
        "weather_forecast = pd.DataFrame(columns=['Date','Max Temp','Min Temp','Mean Temp'],index=[i for i in range(1,10)])\n",
        "dates = []\n",
        "for i in range(1,10):\n",
        "  today = datetime.now() + timedelta(days = i)\n",
        "  weather_forecast.loc[i] = LR(today.day, today.month, today.year)\n",
        "  dates.append(str(today.month)+'-'+f\"{today.day:02d}\")\n",
        "\n",
        "print('Linear Regression:')\n",
        "print(weather_forecast)\n",
        "plt.title(\"9-day Weather Forecast for Hong Kong (Linear Regression)\")\n",
        "plt.xlabel(\"Date\")\n",
        "plt.ylabel(\"Temperature(°C)\")\n",
        "plt.plot(dates, HKO_weather_forecast['Max Temp'],color='crimson')\n",
        "plt.plot(dates, HKO_weather_forecast['Min Temp'],color='green')\n",
        "plt.plot(dates, weather_forecast['Max Temp'],color='red')\n",
        "plt.plot(dates, weather_forecast['Min Temp'],color='limegreen')\n",
        "plt.plot(dates, weather_forecast['Mean Temp'],color='blue')\n",
        "plt.show()\n",
        "print()"
      ],
      "metadata": {
        "id": "eKVjXSM9YFnJ",
        "colab": {
          "base_uri": "https://localhost:8080/",
          "height": 503
        },
        "outputId": "1308719c-7975-41c4-f2ad-a19208e76139"
      },
      "execution_count": 65,
      "outputs": [
        {
          "output_type": "stream",
          "name": "stdout",
          "text": [
            "Linear Regression:\n",
            "         Date   Max Temp   Min Temp  Mean Temp\n",
            "1  2022-11-07  28.421905  21.307619  24.605714\n",
            "2  2022-11-08  27.224762  21.398095  23.257143\n",
            "3  2022-11-09  26.599048  19.267619  22.291429\n",
            "4  2022-11-10  24.217143  20.039048  21.582857\n",
            "5  2022-11-11  26.013333  19.827619  22.506667\n",
            "6  2022-11-12  25.645714  20.913333  22.865714\n",
            "7  2022-11-13  25.094556  21.096615  22.818956\n",
            "8  2022-11-14  26.443103  21.204118  23.114358\n",
            "9  2022-11-15  26.520339  21.480846  23.253456\n"
          ]
        },
        {
          "output_type": "display_data",
          "data": {
            "text/plain": [
              "<Figure size 432x288 with 1 Axes>"
            ],
            "image/png": "[encoded data removed]"
          },
          "metadata": {
            "needs_background": "light"
          }
        },
        {
          "output_type": "stream",
          "name": "stdout",
          "text": [
            "\n"
          ]
        }
      ]
    },
    {
      "cell_type": "code",
      "source": [
        "weather_forecast = pd.DataFrame(columns=['Date','Max Temp','Min Temp','Mean Temp'],index=[i for i in range(1,10)])\n",
        "for i in range(1,10):\n",
        "  today = datetime.now() + timedelta(days = i)\n",
        "  weather_forecast.loc[i] = NLR(today.day, today.month, today.year, 3)\n",
        "print('Non Linear Regression:')\n",
        "print(weather_forecast)\n",
        "plt.title(\"9-day Weather Forecast for Hong Kong (Non Linear Regression)\")\n",
        "plt.xlabel(\"Date\")\n",
        "plt.ylabel(\"Temperature(°C)\")\n",
        "plt.plot(dates, HKO_weather_forecast['Max Temp'],color='crimson')\n",
        "plt.plot(dates, HKO_weather_forecast['Min Temp'],color='green')\n",
        "plt.plot(dates, weather_forecast['Max Temp'],color='red')\n",
        "plt.plot(dates, weather_forecast['Min Temp'],color='limegreen')\n",
        "plt.plot(dates, weather_forecast['Mean Temp'],color='blue')\n",
        "plt.show()\n",
        "print()"
      ],
      "metadata": {
        "colab": {
          "base_uri": "https://localhost:8080/",
          "height": 503
        },
        "id": "BHzT20IDrA8m",
        "outputId": "f282720e-4df0-4030-beb9-b01fdc7dad39"
      },
      "execution_count": 66,
      "outputs": [
        {
          "output_type": "stream",
          "name": "stdout",
          "text": [
            "Non Linear Regression:\n",
            "         Date   Max Temp   Min Temp  Mean Temp\n",
            "1  2022-11-07  27.929966   20.85399  24.162056\n",
            "2  2022-11-08   27.70827  22.257206   24.05038\n",
            "3  2022-11-09  27.355081  19.856813  23.061696\n",
            "4  2022-11-10  24.391128  20.728576   22.09535\n",
            "5  2022-11-11  26.097795  20.665761   23.06009\n",
            "6  2022-11-12  25.283502  22.003351   23.28044\n",
            "7  2022-11-13   24.95822  22.130718    23.3122\n",
            "8  2022-11-14  27.364588  22.053836  23.929968\n",
            "9  2022-11-15   27.23607  22.194045  24.139151\n"
          ]
        },
        {
          "output_type": "display_data",
          "data": {
            "text/plain": [
              "<Figure size 432x288 with 1 Axes>"
            ],
            "image/png": "[encoded data removed]"
          },
          "metadata": {
            "needs_background": "light"
          }
        },
        {
          "output_type": "stream",
          "name": "stdout",
          "text": [
            "\n"
          ]
        }
      ]
    },
    {
      "cell_type": "code",
      "source": [
        "weather_forecast = pd.DataFrame(columns=['Date','Max Temp','Min Temp','Mean Temp'],index=[i for i in range(1,10)])\n",
        "for i in range(1,10):\n",
        "  today = datetime.now() + timedelta(days = i)\n",
        "  weather_forecast.loc[i] = DT(today.day, today.month, today.year, 6)\n",
        "print('Decision Tree:')\n",
        "print(weather_forecast)\n",
        "plt.title(\"9-day Weather Forecast for Hong Kong (Decision Tree)\")\n",
        "plt.xlabel(\"Date\")\n",
        "plt.ylabel(\"Temperature(°C)\")\n",
        "plt.plot(dates, HKO_weather_forecast['Max Temp'],color='crimson')\n",
        "plt.plot(dates, HKO_weather_forecast['Min Temp'],color='green')\n",
        "plt.plot(dates, weather_forecast['Max Temp'],color='red')\n",
        "plt.plot(dates, weather_forecast['Min Temp'],color='limegreen')\n",
        "plt.plot(dates, weather_forecast['Mean Temp'],color='blue')\n",
        "plt.show()\n",
        "print()"
      ],
      "metadata": {
        "colab": {
          "base_uri": "https://localhost:8080/",
          "height": 503
        },
        "id": "Kz5c5MWarB60",
        "outputId": "b8127eee-2044-416a-c68a-7cab490ec60d"
      },
      "execution_count": 67,
      "outputs": [
        {
          "output_type": "stream",
          "name": "stdout",
          "text": [
            "Decision Tree:\n",
            "         Date Max Temp Min Temp Mean Temp\n",
            "1  2022-11-07     29.2     23.3      25.9\n",
            "2  2022-11-08     24.8     16.5      18.9\n",
            "3  2022-11-09     23.7     15.9      18.9\n",
            "4  2022-11-10     24.6     17.3      19.8\n",
            "5  2022-11-11     25.0     17.4      20.9\n",
            "6  2022-11-12     26.7     18.5      22.1\n",
            "7  2022-11-13     25.7     19.1      21.5\n",
            "8  2022-11-14     26.2     17.9      21.1\n",
            "9  2022-11-15     25.6     18.8      21.1\n"
          ]
        },
        {
          "output_type": "display_data",
          "data": {
            "text/plain": [
              "<Figure size 432x288 with 1 Axes>"
            ],
            "image/png": "[encoded data removed]"
          },
          "metadata": {
            "needs_background": "light"
          }
        },
        {
          "output_type": "stream",
          "name": "stdout",
          "text": [
            "\n"
          ]
        }
      ]
    }
  ]
}